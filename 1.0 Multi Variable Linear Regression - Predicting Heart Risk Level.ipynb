{
 "cells": [
  {
   "cell_type": "code",
   "execution_count": 9,
   "metadata": {},
   "outputs": [
    {
     "name": "stdout",
     "output_type": "stream",
     "text": [
      "[[  2.  48. 236.  66.   0.   2.   0.]\n",
      " [  1.  48. 260.  51.   0.   2.   1.]\n",
      " [  1.  44. 187.  49.   1.   2.   0.]\n",
      " [  2.  42. 216.  57.   1.   2.   0.]\n",
      " [  2.  56. 156.  42.   0.   2.   0.]\n",
      " [  1.  44. 162.  57.   1.   2.   0.]\n",
      " [  1.  50. 244.  47.   0.   2.   0.]\n",
      " [  1.  48. 212.  30.   1.   2.   0.]\n",
      " [  2.  66. 202.  53.   0.   2.   1.]\n",
      " [  1.  63. 186.  46.   1.   2.   0.]]\n",
      "[[ 1.1]\n",
      " [ 7. ]\n",
      " [ 7. ]\n",
      " [ 0.4]\n",
      " [ 2.2]\n",
      " [ 3. ]\n",
      " [ 4.2]\n",
      " [17.4]\n",
      " [13.4]\n",
      " [17.3]]\n",
      "size of the dataset: 6644\n"
     ]
    }
   ],
   "source": [
    "import pandas as pd\n",
    "import numpy as np\n",
    "import matplotlib.pyplot as plt\n",
    "\n",
    "dataset=pd.read_csv('cardio_dataset.csv').values\n",
    "\n",
    "data=dataset[:,0:7]\n",
    "target=dataset[:,7]\n",
    "\n",
    "target=np.reshape(target, (-1,1))\n",
    "\n",
    "print(data[:10])\n",
    "print(target[:10])\n",
    "print('size of the dataset:',len(dataset))"
   ]
  },
  {
   "cell_type": "code",
   "execution_count": 10,
   "metadata": {},
   "outputs": [],
   "source": [
    "from sklearn.model_selection import train_test_split\n",
    "\n",
    "train_data,test_data,train_target,test_target=train_test_split(data,target,test_size=0.1)"
   ]
  },
  {
   "cell_type": "code",
   "execution_count": 11,
   "metadata": {},
   "outputs": [],
   "source": [
    "from sklearn.linear_model import LinearRegression\n",
    "\n",
    "model=LinearRegression()\n",
    "\n",
    "model.fit(train_data,train_target)\n",
    "predicted_target=model.predict(test_data)"
   ]
  },
  {
   "cell_type": "code",
   "execution_count": 12,
   "metadata": {},
   "outputs": [
    {
     "name": "stdout",
     "output_type": "stream",
     "text": [
      "r2 score: 0.7410738821362076\n"
     ]
    }
   ],
   "source": [
    "from sklearn.metrics import r2_score\n",
    "\n",
    "r2=r2_score(test_target,predicted_target)\n",
    "print(\"r2 score:\",r2)"
   ]
  },
  {
   "cell_type": "code",
   "execution_count": 13,
   "metadata": {},
   "outputs": [
    {
     "name": "stdout",
     "output_type": "stream",
     "text": [
      "Actual Target: [[21.2  3.2  3.5  7.   7.3 17.5 13.7  4.4 15.9  1. ]]\n",
      "Predicted Target: [[18.64310646 10.03930788 12.11767212  7.08501399 10.48419377 16.54935922\n",
      "  13.55237827  4.82998009 21.8530371   1.60115771]]\n"
     ]
    }
   ],
   "source": [
    "print('Actual Target:',test_target[:10].T)\n",
    "print('Predicted Target:',predicted_target[:10].T)"
   ]
  },
  {
   "cell_type": "code",
   "execution_count": 14,
   "metadata": {},
   "outputs": [
    {
     "data": {
      "text/plain": [
       "['heart_risk_prediction_regression_model.sav']"
      ]
     },
     "execution_count": 14,
     "metadata": {},
     "output_type": "execute_result"
    }
   ],
   "source": [
    "import joblib\n",
    "\n",
    "joblib.dump(model,'heart_risk_prediction_regression_model.sav')"
   ]
  }
 ],
 "metadata": {
  "kernelspec": {
   "display_name": "Python 3.10.6 64-bit",
   "language": "python",
   "name": "python3"
  },
  "language_info": {
   "codemirror_mode": {
    "name": "ipython",
    "version": 3
   },
   "file_extension": ".py",
   "mimetype": "text/x-python",
   "name": "python",
   "nbconvert_exporter": "python",
   "pygments_lexer": "ipython3",
   "version": "3.10.6"
  },
  "vscode": {
   "interpreter": {
    "hash": "37a27d0e5b469d6519fba8d674fca678a9e423d1818ec628dd8efc12286d08bf"
   }
  }
 },
 "nbformat": 4,
 "nbformat_minor": 2
}
